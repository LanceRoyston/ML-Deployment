{
 "cells": [
  {
   "cell_type": "markdown",
   "id": "57153c5b-9bd6-41a8-870b-f77e37df8709",
   "metadata": {},
   "source": [
    "# Importing Packages"
   ]
  },
  {
   "cell_type": "code",
   "execution_count": 1,
   "id": "c896276b-7561-4385-a6f2-bbf6c68f8d19",
   "metadata": {},
   "outputs": [],
   "source": [
    "import warnings\n",
    "warnings.filterwarnings('ignore')\n",
    "import pandas as pd\n",
    "import numpy as np\n",
    "from sklearn import preprocessing\n",
    "from sklearn.model_selection import train_test_split \n",
    "from sklearn.metrics import accuracy_score \n",
    "from sklearn.ensemble import RandomForestClassifier\n",
    "from sklearn.metrics import confusion_matrix, classification_report, roc_auc_score, roc_curve, f1_score, accuracy_score, recall_score, precision_score\n",
    "from sklearn.ensemble import AdaBoostClassifier, GradientBoostingClassifier\n",
    "import matplotlib.pyplot as plt\n",
    "import seaborn as sns\n",
    "from sklearn.manifold import TSNE\n",
    "import matplotlib.patches as mpatches\n",
    "import pickle"
   ]
  },
  {
   "cell_type": "code",
   "execution_count": 2,
   "id": "ac0b5299-df5f-402a-8339-e47951be0623",
   "metadata": {},
   "outputs": [
    {
     "name": "stdout",
     "output_type": "stream",
     "text": [
      "Requirement already satisfied: streamlit in /Users/lanceroyston/anaconda3/lib/python3.11/site-packages (1.31.0)\n",
      "Requirement already satisfied: altair<6,>=4.0 in /Users/lanceroyston/anaconda3/lib/python3.11/site-packages (from streamlit) (5.2.0)\n",
      "Requirement already satisfied: blinker<2,>=1.0.0 in /Users/lanceroyston/anaconda3/lib/python3.11/site-packages (from streamlit) (1.7.0)\n",
      "Requirement already satisfied: cachetools<6,>=4.0 in /Users/lanceroyston/anaconda3/lib/python3.11/site-packages (from streamlit) (5.3.2)\n",
      "Requirement already satisfied: click<9,>=7.0 in /Users/lanceroyston/anaconda3/lib/python3.11/site-packages (from streamlit) (8.1.7)\n",
      "Requirement already satisfied: importlib-metadata<8,>=1.4 in /Users/lanceroyston/anaconda3/lib/python3.11/site-packages (from streamlit) (7.0.1)\n",
      "Requirement already satisfied: numpy<2,>=1.19.3 in /Users/lanceroyston/anaconda3/lib/python3.11/site-packages (from streamlit) (1.24.4)\n",
      "Requirement already satisfied: packaging<24,>=16.8 in /Users/lanceroyston/anaconda3/lib/python3.11/site-packages (from streamlit) (23.1)\n",
      "Requirement already satisfied: pandas<3,>=1.3.0 in /Users/lanceroyston/anaconda3/lib/python3.11/site-packages (from streamlit) (2.1.4)\n",
      "Requirement already satisfied: pillow<11,>=7.1.0 in /Users/lanceroyston/anaconda3/lib/python3.11/site-packages (from streamlit) (10.2.0)\n",
      "Requirement already satisfied: protobuf<5,>=3.20 in /Users/lanceroyston/anaconda3/lib/python3.11/site-packages (from streamlit) (4.25.2)\n",
      "Requirement already satisfied: pyarrow>=7.0 in /Users/lanceroyston/anaconda3/lib/python3.11/site-packages (from streamlit) (11.0.0)\n",
      "Requirement already satisfied: python-dateutil<3,>=2.7.3 in /Users/lanceroyston/anaconda3/lib/python3.11/site-packages (from streamlit) (2.8.2)\n",
      "Requirement already satisfied: requests<3,>=2.27 in /Users/lanceroyston/anaconda3/lib/python3.11/site-packages (from streamlit) (2.31.0)\n",
      "Requirement already satisfied: rich<14,>=10.14.0 in /Users/lanceroyston/anaconda3/lib/python3.11/site-packages (from streamlit) (13.3.5)\n",
      "Requirement already satisfied: tenacity<9,>=8.1.0 in /Users/lanceroyston/anaconda3/lib/python3.11/site-packages (from streamlit) (8.2.2)\n",
      "Requirement already satisfied: toml<2,>=0.10.1 in /Users/lanceroyston/anaconda3/lib/python3.11/site-packages (from streamlit) (0.10.2)\n",
      "Requirement already satisfied: typing-extensions<5,>=4.3.0 in /Users/lanceroyston/anaconda3/lib/python3.11/site-packages (from streamlit) (4.9.0)\n",
      "Requirement already satisfied: tzlocal<6,>=1.1 in /Users/lanceroyston/anaconda3/lib/python3.11/site-packages (from streamlit) (5.2)\n",
      "Requirement already satisfied: validators<1,>=0.2 in /Users/lanceroyston/anaconda3/lib/python3.11/site-packages (from streamlit) (0.22.0)\n",
      "Requirement already satisfied: gitpython!=3.1.19,<4,>=3.0.7 in /Users/lanceroyston/anaconda3/lib/python3.11/site-packages (from streamlit) (3.1.41)\n",
      "Requirement already satisfied: pydeck<1,>=0.8.0b4 in /Users/lanceroyston/anaconda3/lib/python3.11/site-packages (from streamlit) (0.8.1b0)\n",
      "Requirement already satisfied: tornado<7,>=6.0.3 in /Users/lanceroyston/anaconda3/lib/python3.11/site-packages (from streamlit) (6.3.3)\n",
      "Requirement already satisfied: jinja2 in /Users/lanceroyston/anaconda3/lib/python3.11/site-packages (from altair<6,>=4.0->streamlit) (3.1.3)\n",
      "Requirement already satisfied: jsonschema>=3.0 in /Users/lanceroyston/anaconda3/lib/python3.11/site-packages (from altair<6,>=4.0->streamlit) (4.19.2)\n",
      "Requirement already satisfied: toolz in /Users/lanceroyston/anaconda3/lib/python3.11/site-packages (from altair<6,>=4.0->streamlit) (0.12.0)\n",
      "Requirement already satisfied: gitdb<5,>=4.0.1 in /Users/lanceroyston/anaconda3/lib/python3.11/site-packages (from gitpython!=3.1.19,<4,>=3.0.7->streamlit) (4.0.11)\n",
      "Requirement already satisfied: zipp>=0.5 in /Users/lanceroyston/anaconda3/lib/python3.11/site-packages (from importlib-metadata<8,>=1.4->streamlit) (3.17.0)\n",
      "Requirement already satisfied: pytz>=2020.1 in /Users/lanceroyston/anaconda3/lib/python3.11/site-packages (from pandas<3,>=1.3.0->streamlit) (2023.3.post1)\n",
      "Requirement already satisfied: tzdata>=2022.1 in /Users/lanceroyston/anaconda3/lib/python3.11/site-packages (from pandas<3,>=1.3.0->streamlit) (2023.3)\n",
      "Requirement already satisfied: six>=1.5 in /Users/lanceroyston/anaconda3/lib/python3.11/site-packages (from python-dateutil<3,>=2.7.3->streamlit) (1.16.0)\n",
      "Requirement already satisfied: charset-normalizer<4,>=2 in /Users/lanceroyston/anaconda3/lib/python3.11/site-packages (from requests<3,>=2.27->streamlit) (2.0.4)\n",
      "Requirement already satisfied: idna<4,>=2.5 in /Users/lanceroyston/anaconda3/lib/python3.11/site-packages (from requests<3,>=2.27->streamlit) (3.4)\n",
      "Requirement already satisfied: urllib3<3,>=1.21.1 in /Users/lanceroyston/anaconda3/lib/python3.11/site-packages (from requests<3,>=2.27->streamlit) (1.26.18)\n",
      "Requirement already satisfied: certifi>=2017.4.17 in /Users/lanceroyston/anaconda3/lib/python3.11/site-packages (from requests<3,>=2.27->streamlit) (2024.2.2)\n",
      "Requirement already satisfied: markdown-it-py<3.0.0,>=2.2.0 in /Users/lanceroyston/anaconda3/lib/python3.11/site-packages (from rich<14,>=10.14.0->streamlit) (2.2.0)\n",
      "Requirement already satisfied: pygments<3.0.0,>=2.13.0 in /Users/lanceroyston/anaconda3/lib/python3.11/site-packages (from rich<14,>=10.14.0->streamlit) (2.15.1)\n",
      "Requirement already satisfied: smmap<6,>=3.0.1 in /Users/lanceroyston/anaconda3/lib/python3.11/site-packages (from gitdb<5,>=4.0.1->gitpython!=3.1.19,<4,>=3.0.7->streamlit) (5.0.1)\n",
      "Requirement already satisfied: MarkupSafe>=2.0 in /Users/lanceroyston/anaconda3/lib/python3.11/site-packages (from jinja2->altair<6,>=4.0->streamlit) (2.1.3)\n",
      "Requirement already satisfied: attrs>=22.2.0 in /Users/lanceroyston/anaconda3/lib/python3.11/site-packages (from jsonschema>=3.0->altair<6,>=4.0->streamlit) (23.1.0)\n",
      "Requirement already satisfied: jsonschema-specifications>=2023.03.6 in /Users/lanceroyston/anaconda3/lib/python3.11/site-packages (from jsonschema>=3.0->altair<6,>=4.0->streamlit) (2023.7.1)\n",
      "Requirement already satisfied: referencing>=0.28.4 in /Users/lanceroyston/anaconda3/lib/python3.11/site-packages (from jsonschema>=3.0->altair<6,>=4.0->streamlit) (0.30.2)\n",
      "Requirement already satisfied: rpds-py>=0.7.1 in /Users/lanceroyston/anaconda3/lib/python3.11/site-packages (from jsonschema>=3.0->altair<6,>=4.0->streamlit) (0.10.6)\n",
      "Requirement already satisfied: mdurl~=0.1 in /Users/lanceroyston/anaconda3/lib/python3.11/site-packages (from markdown-it-py<3.0.0,>=2.2.0->rich<14,>=10.14.0->streamlit) (0.1.0)\n"
     ]
    }
   ],
   "source": [
    "!pip install streamlit"
   ]
  },
  {
   "cell_type": "code",
   "execution_count": 3,
   "id": "d419f126-7e33-4d87-b82f-728e2159d964",
   "metadata": {},
   "outputs": [],
   "source": [
    "!pip3 freeze > requirementsV2.txt"
   ]
  },
  {
   "cell_type": "code",
   "execution_count": 4,
   "id": "805a94fc-9816-469f-ad86-912fbf950d85",
   "metadata": {},
   "outputs": [
    {
     "name": "stdout",
     "output_type": "stream",
     "text": [
      "pandas 2.1.4\n",
      "numpy 1.24.4\n"
     ]
    }
   ],
   "source": [
    "print(\"pandas\",pd.__version__)\n",
    "print(\"numpy\", np.__version__)"
   ]
  },
  {
   "cell_type": "markdown",
   "id": "e72dbdf3-3ff5-4b34-96a4-473211dc16aa",
   "metadata": {},
   "source": [
    "# Data Observation"
   ]
  },
  {
   "cell_type": "code",
   "execution_count": 5,
   "id": "81a10677-0cd9-46fc-b7ca-87361a85bd43",
   "metadata": {},
   "outputs": [],
   "source": [
    "df_data = pd.read_csv(\"CHLA_clean_data_until_2023.csv\")"
   ]
  },
  {
   "cell_type": "code",
   "execution_count": 6,
   "id": "bf13f5f5-2233-4021-97a4-6abbcfa5f1db",
   "metadata": {},
   "outputs": [
    {
     "data": {
      "text/html": [
       "<div>\n",
       "<style scoped>\n",
       "    .dataframe tbody tr th:only-of-type {\n",
       "        vertical-align: middle;\n",
       "    }\n",
       "\n",
       "    .dataframe tbody tr th {\n",
       "        vertical-align: top;\n",
       "    }\n",
       "\n",
       "    .dataframe thead th {\n",
       "        text-align: right;\n",
       "    }\n",
       "</style>\n",
       "<table border=\"1\" class=\"dataframe\">\n",
       "  <thead>\n",
       "    <tr style=\"text-align: right;\">\n",
       "      <th></th>\n",
       "      <th>MRN</th>\n",
       "      <th>APPT_STATUS</th>\n",
       "      <th>APPT_DATE</th>\n",
       "      <th>BOOK_DATE</th>\n",
       "      <th>ZIPCODE</th>\n",
       "      <th>CLINIC</th>\n",
       "      <th>SCHEDULE_ID</th>\n",
       "      <th>APPT_ID</th>\n",
       "      <th>LEAD_TIME</th>\n",
       "      <th>IS_REPEAT</th>\n",
       "      <th>...</th>\n",
       "      <th>TOTAL_NUMBER_OF_SUCCESS_APPOINTMENT</th>\n",
       "      <th>TOTAL_NUMBER_OF_NOSHOW</th>\n",
       "      <th>DAY_OF_WEEK</th>\n",
       "      <th>WEEK_OF_MONTH</th>\n",
       "      <th>NUM_OF_MONTH</th>\n",
       "      <th>HOUR_OF_DAY</th>\n",
       "      <th>AGE</th>\n",
       "      <th>ETHNICITY_STANDARDIZE</th>\n",
       "      <th>RACE_STANDARDIZE</th>\n",
       "      <th>IS_NOSHOW</th>\n",
       "    </tr>\n",
       "  </thead>\n",
       "  <tbody>\n",
       "    <tr>\n",
       "      <th>0</th>\n",
       "      <td>1946298</td>\n",
       "      <td>CONFIRMED</td>\n",
       "      <td>12/26/23 10:30</td>\n",
       "      <td>6/6/23 10:32</td>\n",
       "      <td>91387</td>\n",
       "      <td>VALENCIA CARE CENTER</td>\n",
       "      <td>22576917</td>\n",
       "      <td>77137126</td>\n",
       "      <td>202</td>\n",
       "      <td>Y</td>\n",
       "      <td>...</td>\n",
       "      <td>5</td>\n",
       "      <td>0</td>\n",
       "      <td>1</td>\n",
       "      <td>4</td>\n",
       "      <td>12</td>\n",
       "      <td>10</td>\n",
       "      <td>14</td>\n",
       "      <td>Non-Hispanic</td>\n",
       "      <td>European</td>\n",
       "      <td>N</td>\n",
       "    </tr>\n",
       "    <tr>\n",
       "      <th>1</th>\n",
       "      <td>4464320</td>\n",
       "      <td>RESCHEDULED</td>\n",
       "      <td>12/26/23 10:00</td>\n",
       "      <td>12/27/22 10:19</td>\n",
       "      <td>91354</td>\n",
       "      <td>VALENCIA CARE CENTER</td>\n",
       "      <td>21812159</td>\n",
       "      <td>74489619</td>\n",
       "      <td>363</td>\n",
       "      <td>Y</td>\n",
       "      <td>...</td>\n",
       "      <td>2</td>\n",
       "      <td>0</td>\n",
       "      <td>1</td>\n",
       "      <td>4</td>\n",
       "      <td>12</td>\n",
       "      <td>10</td>\n",
       "      <td>3</td>\n",
       "      <td>Others</td>\n",
       "      <td>Other</td>\n",
       "      <td>N</td>\n",
       "    </tr>\n",
       "    <tr>\n",
       "      <th>2</th>\n",
       "      <td>4464320</td>\n",
       "      <td>CONFIRMED</td>\n",
       "      <td>12/26/23 10:00</td>\n",
       "      <td>12/27/22 10:19</td>\n",
       "      <td>91354</td>\n",
       "      <td>VALENCIA CARE CENTER</td>\n",
       "      <td>22496669</td>\n",
       "      <td>76863542</td>\n",
       "      <td>363</td>\n",
       "      <td>Y</td>\n",
       "      <td>...</td>\n",
       "      <td>2</td>\n",
       "      <td>0</td>\n",
       "      <td>1</td>\n",
       "      <td>4</td>\n",
       "      <td>12</td>\n",
       "      <td>10</td>\n",
       "      <td>3</td>\n",
       "      <td>Others</td>\n",
       "      <td>Other</td>\n",
       "      <td>N</td>\n",
       "    </tr>\n",
       "    <tr>\n",
       "      <th>3</th>\n",
       "      <td>4146637</td>\n",
       "      <td>CONFIRMED</td>\n",
       "      <td>12/21/23 10:30</td>\n",
       "      <td>1/23/23 10:59</td>\n",
       "      <td>91350</td>\n",
       "      <td>VALENCIA CARE CENTER</td>\n",
       "      <td>22466003</td>\n",
       "      <td>76767204</td>\n",
       "      <td>331</td>\n",
       "      <td>Y</td>\n",
       "      <td>...</td>\n",
       "      <td>4</td>\n",
       "      <td>0</td>\n",
       "      <td>3</td>\n",
       "      <td>3</td>\n",
       "      <td>12</td>\n",
       "      <td>10</td>\n",
       "      <td>12</td>\n",
       "      <td>Non-Hispanic</td>\n",
       "      <td>European</td>\n",
       "      <td>N</td>\n",
       "    </tr>\n",
       "    <tr>\n",
       "      <th>4</th>\n",
       "      <td>4460795</td>\n",
       "      <td>CONFIRMED</td>\n",
       "      <td>12/18/23 9:00</td>\n",
       "      <td>1/9/23 10:59</td>\n",
       "      <td>91402</td>\n",
       "      <td>VALENCIA CARE CENTER</td>\n",
       "      <td>21862889</td>\n",
       "      <td>74656637</td>\n",
       "      <td>342</td>\n",
       "      <td>Y</td>\n",
       "      <td>...</td>\n",
       "      <td>3</td>\n",
       "      <td>0</td>\n",
       "      <td>0</td>\n",
       "      <td>3</td>\n",
       "      <td>12</td>\n",
       "      <td>9</td>\n",
       "      <td>13</td>\n",
       "      <td>Others</td>\n",
       "      <td>Other</td>\n",
       "      <td>N</td>\n",
       "    </tr>\n",
       "    <tr>\n",
       "      <th>...</th>\n",
       "      <td>...</td>\n",
       "      <td>...</td>\n",
       "      <td>...</td>\n",
       "      <td>...</td>\n",
       "      <td>...</td>\n",
       "      <td>...</td>\n",
       "      <td>...</td>\n",
       "      <td>...</td>\n",
       "      <td>...</td>\n",
       "      <td>...</td>\n",
       "      <td>...</td>\n",
       "      <td>...</td>\n",
       "      <td>...</td>\n",
       "      <td>...</td>\n",
       "      <td>...</td>\n",
       "      <td>...</td>\n",
       "      <td>...</td>\n",
       "      <td>...</td>\n",
       "      <td>...</td>\n",
       "      <td>...</td>\n",
       "      <td>...</td>\n",
       "    </tr>\n",
       "    <tr>\n",
       "      <th>21055</th>\n",
       "      <td>4109677</td>\n",
       "      <td>CHECKED OUT</td>\n",
       "      <td>4/24/18 10:30</td>\n",
       "      <td>4/9/18 15:15</td>\n",
       "      <td>91108</td>\n",
       "      <td>ARCADIA CARE CENTER</td>\n",
       "      <td>14657077</td>\n",
       "      <td>45785685</td>\n",
       "      <td>14</td>\n",
       "      <td>N</td>\n",
       "      <td>...</td>\n",
       "      <td>3</td>\n",
       "      <td>0</td>\n",
       "      <td>1</td>\n",
       "      <td>4</td>\n",
       "      <td>4</td>\n",
       "      <td>10</td>\n",
       "      <td>9</td>\n",
       "      <td>Others</td>\n",
       "      <td>Other</td>\n",
       "      <td>N</td>\n",
       "    </tr>\n",
       "    <tr>\n",
       "      <th>21056</th>\n",
       "      <td>1893524</td>\n",
       "      <td>CHECKED OUT</td>\n",
       "      <td>4/17/18 11:30</td>\n",
       "      <td>1/16/18 11:20</td>\n",
       "      <td>90041</td>\n",
       "      <td>ARCADIA CARE CENTER</td>\n",
       "      <td>14684208</td>\n",
       "      <td>45874999</td>\n",
       "      <td>91</td>\n",
       "      <td>N</td>\n",
       "      <td>...</td>\n",
       "      <td>10</td>\n",
       "      <td>3</td>\n",
       "      <td>1</td>\n",
       "      <td>3</td>\n",
       "      <td>4</td>\n",
       "      <td>11</td>\n",
       "      <td>20</td>\n",
       "      <td>Others</td>\n",
       "      <td>Other</td>\n",
       "      <td>N</td>\n",
       "    </tr>\n",
       "    <tr>\n",
       "      <th>21057</th>\n",
       "      <td>4174648</td>\n",
       "      <td>RESCHEDULED</td>\n",
       "      <td>4/4/18 8:40</td>\n",
       "      <td>3/5/18 11:52</td>\n",
       "      <td>92410</td>\n",
       "      <td>ARCADIA CARE CENTER</td>\n",
       "      <td>14526629</td>\n",
       "      <td>45343418</td>\n",
       "      <td>29</td>\n",
       "      <td>N</td>\n",
       "      <td>...</td>\n",
       "      <td>0</td>\n",
       "      <td>0</td>\n",
       "      <td>2</td>\n",
       "      <td>1</td>\n",
       "      <td>4</td>\n",
       "      <td>8</td>\n",
       "      <td>20</td>\n",
       "      <td>Others</td>\n",
       "      <td>Other</td>\n",
       "      <td>N</td>\n",
       "    </tr>\n",
       "    <tr>\n",
       "      <th>21058</th>\n",
       "      <td>1352218</td>\n",
       "      <td>CHECKED OUT</td>\n",
       "      <td>3/20/18 12:10</td>\n",
       "      <td>3/20/18 9:15</td>\n",
       "      <td>91350</td>\n",
       "      <td>ARCADIA CARE CENTER</td>\n",
       "      <td>14583939</td>\n",
       "      <td>45539383</td>\n",
       "      <td>0</td>\n",
       "      <td>N</td>\n",
       "      <td>...</td>\n",
       "      <td>1</td>\n",
       "      <td>0</td>\n",
       "      <td>1</td>\n",
       "      <td>3</td>\n",
       "      <td>3</td>\n",
       "      <td>12</td>\n",
       "      <td>24</td>\n",
       "      <td>Non-Hispanic</td>\n",
       "      <td>Other</td>\n",
       "      <td>N</td>\n",
       "    </tr>\n",
       "    <tr>\n",
       "      <th>21059</th>\n",
       "      <td>4088011</td>\n",
       "      <td>CHECKED OUT</td>\n",
       "      <td>2/21/18 8:40</td>\n",
       "      <td>2/13/18 17:14</td>\n",
       "      <td>91103</td>\n",
       "      <td>ARCADIA CARE CENTER</td>\n",
       "      <td>14457130</td>\n",
       "      <td>45113078</td>\n",
       "      <td>7</td>\n",
       "      <td>N</td>\n",
       "      <td>...</td>\n",
       "      <td>1</td>\n",
       "      <td>0</td>\n",
       "      <td>2</td>\n",
       "      <td>3</td>\n",
       "      <td>2</td>\n",
       "      <td>8</td>\n",
       "      <td>19</td>\n",
       "      <td>Others</td>\n",
       "      <td>Other</td>\n",
       "      <td>N</td>\n",
       "    </tr>\n",
       "  </tbody>\n",
       "</table>\n",
       "<p>21060 rows × 25 columns</p>\n",
       "</div>"
      ],
      "text/plain": [
       "           MRN  APPT_STATUS       APPT_DATE       BOOK_DATE ZIPCODE  \\\n",
       "0      1946298    CONFIRMED  12/26/23 10:30    6/6/23 10:32   91387   \n",
       "1      4464320  RESCHEDULED  12/26/23 10:00  12/27/22 10:19   91354   \n",
       "2      4464320    CONFIRMED  12/26/23 10:00  12/27/22 10:19   91354   \n",
       "3      4146637    CONFIRMED  12/21/23 10:30   1/23/23 10:59   91350   \n",
       "4      4460795    CONFIRMED   12/18/23 9:00    1/9/23 10:59   91402   \n",
       "...        ...          ...             ...             ...     ...   \n",
       "21055  4109677  CHECKED OUT   4/24/18 10:30    4/9/18 15:15   91108   \n",
       "21056  1893524  CHECKED OUT   4/17/18 11:30   1/16/18 11:20   90041   \n",
       "21057  4174648  RESCHEDULED     4/4/18 8:40    3/5/18 11:52   92410   \n",
       "21058  1352218  CHECKED OUT   3/20/18 12:10    3/20/18 9:15   91350   \n",
       "21059  4088011  CHECKED OUT    2/21/18 8:40   2/13/18 17:14   91103   \n",
       "\n",
       "                     CLINIC  SCHEDULE_ID   APPT_ID  LEAD_TIME IS_REPEAT  ...  \\\n",
       "0      VALENCIA CARE CENTER     22576917  77137126        202         Y  ...   \n",
       "1      VALENCIA CARE CENTER     21812159  74489619        363         Y  ...   \n",
       "2      VALENCIA CARE CENTER     22496669  76863542        363         Y  ...   \n",
       "3      VALENCIA CARE CENTER     22466003  76767204        331         Y  ...   \n",
       "4      VALENCIA CARE CENTER     21862889  74656637        342         Y  ...   \n",
       "...                     ...          ...       ...        ...       ...  ...   \n",
       "21055   ARCADIA CARE CENTER     14657077  45785685         14         N  ...   \n",
       "21056   ARCADIA CARE CENTER     14684208  45874999         91         N  ...   \n",
       "21057   ARCADIA CARE CENTER     14526629  45343418         29         N  ...   \n",
       "21058   ARCADIA CARE CENTER     14583939  45539383          0         N  ...   \n",
       "21059   ARCADIA CARE CENTER     14457130  45113078          7         N  ...   \n",
       "\n",
       "      TOTAL_NUMBER_OF_SUCCESS_APPOINTMENT  TOTAL_NUMBER_OF_NOSHOW  \\\n",
       "0                                       5                       0   \n",
       "1                                       2                       0   \n",
       "2                                       2                       0   \n",
       "3                                       4                       0   \n",
       "4                                       3                       0   \n",
       "...                                   ...                     ...   \n",
       "21055                                   3                       0   \n",
       "21056                                  10                       3   \n",
       "21057                                   0                       0   \n",
       "21058                                   1                       0   \n",
       "21059                                   1                       0   \n",
       "\n",
       "       DAY_OF_WEEK  WEEK_OF_MONTH  NUM_OF_MONTH  HOUR_OF_DAY  AGE  \\\n",
       "0                1              4            12           10   14   \n",
       "1                1              4            12           10    3   \n",
       "2                1              4            12           10    3   \n",
       "3                3              3            12           10   12   \n",
       "4                0              3            12            9   13   \n",
       "...            ...            ...           ...          ...  ...   \n",
       "21055            1              4             4           10    9   \n",
       "21056            1              3             4           11   20   \n",
       "21057            2              1             4            8   20   \n",
       "21058            1              3             3           12   24   \n",
       "21059            2              3             2            8   19   \n",
       "\n",
       "       ETHNICITY_STANDARDIZE  RACE_STANDARDIZE  IS_NOSHOW  \n",
       "0               Non-Hispanic          European          N  \n",
       "1                     Others             Other          N  \n",
       "2                     Others             Other          N  \n",
       "3               Non-Hispanic          European          N  \n",
       "4                     Others             Other          N  \n",
       "...                      ...               ...        ...  \n",
       "21055                 Others             Other          N  \n",
       "21056                 Others             Other          N  \n",
       "21057                 Others             Other          N  \n",
       "21058           Non-Hispanic             Other          N  \n",
       "21059                 Others             Other          N  \n",
       "\n",
       "[21060 rows x 25 columns]"
      ]
     },
     "execution_count": 6,
     "metadata": {},
     "output_type": "execute_result"
    }
   ],
   "source": [
    "df_data"
   ]
  },
  {
   "cell_type": "code",
   "execution_count": 7,
   "id": "aad4387d-3769-4fa3-9aff-2035295661d9",
   "metadata": {},
   "outputs": [
    {
     "data": {
      "text/plain": [
       "MRN                                          int64\n",
       "APPT_STATUS                                 object\n",
       "APPT_DATE                                   object\n",
       "BOOK_DATE                                   object\n",
       "ZIPCODE                                     object\n",
       "CLINIC                                      object\n",
       "SCHEDULE_ID                                  int64\n",
       "APPT_ID                                      int64\n",
       "LEAD_TIME                                    int64\n",
       "IS_REPEAT                                   object\n",
       "APPT_TYPE_STANDARDIZE                       object\n",
       "APPT_NUM                                     int64\n",
       "TOTAL_NUMBER_OF_CANCELLATIONS                int64\n",
       "TOTAL_NUMBER_OF_RESCHEDULED                  int64\n",
       "TOTAL_NUMBER_OF_NOT_CHECKOUT_APPOINTMENT     int64\n",
       "TOTAL_NUMBER_OF_SUCCESS_APPOINTMENT          int64\n",
       "TOTAL_NUMBER_OF_NOSHOW                       int64\n",
       "DAY_OF_WEEK                                  int64\n",
       "WEEK_OF_MONTH                                int64\n",
       "NUM_OF_MONTH                                 int64\n",
       "HOUR_OF_DAY                                  int64\n",
       "AGE                                          int64\n",
       "ETHNICITY_STANDARDIZE                       object\n",
       "RACE_STANDARDIZE                            object\n",
       "IS_NOSHOW                                   object\n",
       "dtype: object"
      ]
     },
     "execution_count": 7,
     "metadata": {},
     "output_type": "execute_result"
    }
   ],
   "source": [
    "df_data.dtypes"
   ]
  },
  {
   "cell_type": "code",
   "execution_count": 8,
   "id": "7a9156a8-ac7e-4b8e-88f6-8cb51874159e",
   "metadata": {},
   "outputs": [],
   "source": [
    "df_data = df_data.drop(['APPT_STATUS', 'APPT_DATE', 'ZIPCODE','APPT_TYPE_STANDARDIZE', 'ETHNICITY_STANDARDIZE', 'RACE_STANDARDIZE', 'MRN', 'BOOK_DATE', 'HOUR_OF_DAY', 'SCHEDULE_ID', 'APPT_ID', 'DAY_OF_WEEK', 'WEEK_OF_MONTH', 'NUM_OF_MONTH', 'HOUR_OF_DAY', 'TOTAL_NUMBER_OF_NOT_CHECKOUT_APPOINTMENT' ], axis = 1) "
   ]
  },
  {
   "cell_type": "code",
   "execution_count": 9,
   "id": "130ed8be-4520-445d-b212-492dd72b43ed",
   "metadata": {},
   "outputs": [
    {
     "data": {
      "text/plain": [
       "CLINIC                                 object\n",
       "LEAD_TIME                               int64\n",
       "IS_REPEAT                              object\n",
       "APPT_NUM                                int64\n",
       "TOTAL_NUMBER_OF_CANCELLATIONS           int64\n",
       "TOTAL_NUMBER_OF_RESCHEDULED             int64\n",
       "TOTAL_NUMBER_OF_SUCCESS_APPOINTMENT     int64\n",
       "TOTAL_NUMBER_OF_NOSHOW                  int64\n",
       "AGE                                     int64\n",
       "IS_NOSHOW                              object\n",
       "dtype: object"
      ]
     },
     "execution_count": 9,
     "metadata": {},
     "output_type": "execute_result"
    }
   ],
   "source": [
    "df_data.dtypes"
   ]
  },
  {
   "cell_type": "markdown",
   "id": "a3bcd991-646d-46e1-807e-a82ec09ffa85",
   "metadata": {},
   "source": [
    "# Encoding"
   ]
  },
  {
   "cell_type": "code",
   "execution_count": 10,
   "id": "3cc33dbf-7558-4e48-8f0a-5a5426b26251",
   "metadata": {},
   "outputs": [],
   "source": [
    "col_names = df_data.columns"
   ]
  },
  {
   "cell_type": "code",
   "execution_count": 11,
   "id": "ce1a9c90-f994-4de7-b97d-494cb0dbadf6",
   "metadata": {},
   "outputs": [],
   "source": [
    "category_col =['CLINIC', 'IS_REPEAT', 'IS_NOSHOW']  \n",
    "lbl_data = df_data.copy()\n",
    "df_input = df_data[category_col].copy()\n",
    "enc = preprocessing.LabelEncoder()\n",
    "encoder_dict = dict()\n",
    "for cat in category_col:\n",
    "    df_input[cat] = df_input[cat].str.lstrip()\n",
    "    enc = enc.fit(list(df_input[cat]) + ['Unknown'])\n",
    "    encoder_dict[cat] = [cat for cat in enc.classes_]\n",
    "    lbl_data[cat] = enc.transform(df_input[cat])"
   ]
  },
  {
   "cell_type": "code",
   "execution_count": 12,
   "id": "07b37580-d523-4ce9-82b8-75c20e9038a0",
   "metadata": {},
   "outputs": [
    {
     "data": {
      "text/html": [
       "<div>\n",
       "<style scoped>\n",
       "    .dataframe tbody tr th:only-of-type {\n",
       "        vertical-align: middle;\n",
       "    }\n",
       "\n",
       "    .dataframe tbody tr th {\n",
       "        vertical-align: top;\n",
       "    }\n",
       "\n",
       "    .dataframe thead th {\n",
       "        text-align: right;\n",
       "    }\n",
       "</style>\n",
       "<table border=\"1\" class=\"dataframe\">\n",
       "  <thead>\n",
       "    <tr style=\"text-align: right;\">\n",
       "      <th></th>\n",
       "      <th>CLINIC</th>\n",
       "      <th>LEAD_TIME</th>\n",
       "      <th>IS_REPEAT</th>\n",
       "      <th>APPT_NUM</th>\n",
       "      <th>TOTAL_NUMBER_OF_CANCELLATIONS</th>\n",
       "      <th>TOTAL_NUMBER_OF_RESCHEDULED</th>\n",
       "      <th>TOTAL_NUMBER_OF_SUCCESS_APPOINTMENT</th>\n",
       "      <th>TOTAL_NUMBER_OF_NOSHOW</th>\n",
       "      <th>AGE</th>\n",
       "      <th>IS_NOSHOW</th>\n",
       "    </tr>\n",
       "  </thead>\n",
       "  <tbody>\n",
       "    <tr>\n",
       "      <th>0</th>\n",
       "      <td>6</td>\n",
       "      <td>202</td>\n",
       "      <td>2</td>\n",
       "      <td>9</td>\n",
       "      <td>1</td>\n",
       "      <td>2</td>\n",
       "      <td>5</td>\n",
       "      <td>0</td>\n",
       "      <td>14</td>\n",
       "      <td>0</td>\n",
       "    </tr>\n",
       "    <tr>\n",
       "      <th>1</th>\n",
       "      <td>6</td>\n",
       "      <td>363</td>\n",
       "      <td>2</td>\n",
       "      <td>4</td>\n",
       "      <td>0</td>\n",
       "      <td>1</td>\n",
       "      <td>2</td>\n",
       "      <td>0</td>\n",
       "      <td>3</td>\n",
       "      <td>0</td>\n",
       "    </tr>\n",
       "    <tr>\n",
       "      <th>2</th>\n",
       "      <td>6</td>\n",
       "      <td>363</td>\n",
       "      <td>2</td>\n",
       "      <td>4</td>\n",
       "      <td>0</td>\n",
       "      <td>1</td>\n",
       "      <td>2</td>\n",
       "      <td>0</td>\n",
       "      <td>3</td>\n",
       "      <td>0</td>\n",
       "    </tr>\n",
       "    <tr>\n",
       "      <th>3</th>\n",
       "      <td>6</td>\n",
       "      <td>331</td>\n",
       "      <td>2</td>\n",
       "      <td>15</td>\n",
       "      <td>2</td>\n",
       "      <td>8</td>\n",
       "      <td>4</td>\n",
       "      <td>0</td>\n",
       "      <td>12</td>\n",
       "      <td>0</td>\n",
       "    </tr>\n",
       "    <tr>\n",
       "      <th>4</th>\n",
       "      <td>6</td>\n",
       "      <td>342</td>\n",
       "      <td>2</td>\n",
       "      <td>6</td>\n",
       "      <td>1</td>\n",
       "      <td>1</td>\n",
       "      <td>3</td>\n",
       "      <td>0</td>\n",
       "      <td>13</td>\n",
       "      <td>0</td>\n",
       "    </tr>\n",
       "    <tr>\n",
       "      <th>...</th>\n",
       "      <td>...</td>\n",
       "      <td>...</td>\n",
       "      <td>...</td>\n",
       "      <td>...</td>\n",
       "      <td>...</td>\n",
       "      <td>...</td>\n",
       "      <td>...</td>\n",
       "      <td>...</td>\n",
       "      <td>...</td>\n",
       "      <td>...</td>\n",
       "    </tr>\n",
       "    <tr>\n",
       "      <th>21055</th>\n",
       "      <td>0</td>\n",
       "      <td>14</td>\n",
       "      <td>0</td>\n",
       "      <td>3</td>\n",
       "      <td>0</td>\n",
       "      <td>0</td>\n",
       "      <td>3</td>\n",
       "      <td>0</td>\n",
       "      <td>9</td>\n",
       "      <td>0</td>\n",
       "    </tr>\n",
       "    <tr>\n",
       "      <th>21056</th>\n",
       "      <td>0</td>\n",
       "      <td>91</td>\n",
       "      <td>0</td>\n",
       "      <td>21</td>\n",
       "      <td>5</td>\n",
       "      <td>3</td>\n",
       "      <td>10</td>\n",
       "      <td>3</td>\n",
       "      <td>20</td>\n",
       "      <td>0</td>\n",
       "    </tr>\n",
       "    <tr>\n",
       "      <th>21057</th>\n",
       "      <td>0</td>\n",
       "      <td>29</td>\n",
       "      <td>0</td>\n",
       "      <td>1</td>\n",
       "      <td>0</td>\n",
       "      <td>1</td>\n",
       "      <td>0</td>\n",
       "      <td>0</td>\n",
       "      <td>20</td>\n",
       "      <td>0</td>\n",
       "    </tr>\n",
       "    <tr>\n",
       "      <th>21058</th>\n",
       "      <td>0</td>\n",
       "      <td>0</td>\n",
       "      <td>0</td>\n",
       "      <td>1</td>\n",
       "      <td>0</td>\n",
       "      <td>0</td>\n",
       "      <td>1</td>\n",
       "      <td>0</td>\n",
       "      <td>24</td>\n",
       "      <td>0</td>\n",
       "    </tr>\n",
       "    <tr>\n",
       "      <th>21059</th>\n",
       "      <td>0</td>\n",
       "      <td>7</td>\n",
       "      <td>0</td>\n",
       "      <td>1</td>\n",
       "      <td>0</td>\n",
       "      <td>0</td>\n",
       "      <td>1</td>\n",
       "      <td>0</td>\n",
       "      <td>19</td>\n",
       "      <td>0</td>\n",
       "    </tr>\n",
       "  </tbody>\n",
       "</table>\n",
       "<p>21060 rows × 10 columns</p>\n",
       "</div>"
      ],
      "text/plain": [
       "       CLINIC  LEAD_TIME  IS_REPEAT  APPT_NUM  TOTAL_NUMBER_OF_CANCELLATIONS  \\\n",
       "0           6        202          2         9                              1   \n",
       "1           6        363          2         4                              0   \n",
       "2           6        363          2         4                              0   \n",
       "3           6        331          2        15                              2   \n",
       "4           6        342          2         6                              1   \n",
       "...       ...        ...        ...       ...                            ...   \n",
       "21055       0         14          0         3                              0   \n",
       "21056       0         91          0        21                              5   \n",
       "21057       0         29          0         1                              0   \n",
       "21058       0          0          0         1                              0   \n",
       "21059       0          7          0         1                              0   \n",
       "\n",
       "       TOTAL_NUMBER_OF_RESCHEDULED  TOTAL_NUMBER_OF_SUCCESS_APPOINTMENT  \\\n",
       "0                                2                                    5   \n",
       "1                                1                                    2   \n",
       "2                                1                                    2   \n",
       "3                                8                                    4   \n",
       "4                                1                                    3   \n",
       "...                            ...                                  ...   \n",
       "21055                            0                                    3   \n",
       "21056                            3                                   10   \n",
       "21057                            1                                    0   \n",
       "21058                            0                                    1   \n",
       "21059                            0                                    1   \n",
       "\n",
       "       TOTAL_NUMBER_OF_NOSHOW  AGE  IS_NOSHOW  \n",
       "0                           0   14          0  \n",
       "1                           0    3          0  \n",
       "2                           0    3          0  \n",
       "3                           0   12          0  \n",
       "4                           0   13          0  \n",
       "...                       ...  ...        ...  \n",
       "21055                       0    9          0  \n",
       "21056                       3   20          0  \n",
       "21057                       0   20          0  \n",
       "21058                       0   24          0  \n",
       "21059                       0   19          0  \n",
       "\n",
       "[21060 rows x 10 columns]"
      ]
     },
     "execution_count": 12,
     "metadata": {},
     "output_type": "execute_result"
    }
   ],
   "source": [
    "lbl_data"
   ]
  },
  {
   "cell_type": "code",
   "execution_count": 13,
   "id": "77304196-901f-429a-9570-86250d801811",
   "metadata": {},
   "outputs": [
    {
     "data": {
      "text/plain": [
       "IS_NOSHOW\n",
       "0    20027\n",
       "2     1033\n",
       "Name: count, dtype: int64"
      ]
     },
     "execution_count": 13,
     "metadata": {},
     "output_type": "execute_result"
    }
   ],
   "source": [
    "lbl_data['IS_NOSHOW'].value_counts()\n",
    "\n",
    "# 0 = N\n",
    "# 2 = Y"
   ]
  },
  {
   "cell_type": "code",
   "execution_count": 14,
   "id": "a8f1c2bd-692b-4307-a8b8-1973d5207cf5",
   "metadata": {},
   "outputs": [
    {
     "data": {
      "text/plain": [
       "CLINIC                                 int64\n",
       "LEAD_TIME                              int64\n",
       "IS_REPEAT                              int64\n",
       "APPT_NUM                               int64\n",
       "TOTAL_NUMBER_OF_CANCELLATIONS          int64\n",
       "TOTAL_NUMBER_OF_RESCHEDULED            int64\n",
       "TOTAL_NUMBER_OF_SUCCESS_APPOINTMENT    int64\n",
       "TOTAL_NUMBER_OF_NOSHOW                 int64\n",
       "AGE                                    int64\n",
       "IS_NOSHOW                              int64\n",
       "dtype: object"
      ]
     },
     "execution_count": 14,
     "metadata": {},
     "output_type": "execute_result"
    }
   ],
   "source": [
    "lbl_data.dtypes"
   ]
  },
  {
   "cell_type": "code",
   "execution_count": 15,
   "id": "be04393b-3fb8-407e-a48f-ecc56cb3de0e",
   "metadata": {},
   "outputs": [
    {
     "name": "stdout",
     "output_type": "stream",
     "text": [
      "{'CLINIC': ['ARCADIA CARE CENTER', 'BAKERSFIELD CARE CLINIC', 'ENCINO CARE CENTER', 'SANTA MONICA CLINIC', 'SOUTH BAY CARE CENTER', 'Unknown', 'VALENCIA CARE CENTER'], 'IS_REPEAT': ['N', 'Unknown', 'Y'], 'IS_NOSHOW': ['N', 'Unknown', 'Y']}\n"
     ]
    }
   ],
   "source": [
    "print(encoder_dict)"
   ]
  },
  {
   "cell_type": "markdown",
   "id": "74e1463c-8742-4b26-91fa-4e384eca9b31",
   "metadata": {},
   "source": [
    "# Saving the Label Encoder to Pkl"
   ]
  },
  {
   "cell_type": "code",
   "execution_count": 16,
   "id": "092e7755-6a72-4d3c-9833-be88cfea39ce",
   "metadata": {},
   "outputs": [],
   "source": [
    "encoder_pickle_out = open(\"encoder_V3.pkl\", \"wb\")\n",
    "pickle.dump(encoder_dict, encoder_pickle_out)\n",
    "encoder_pickle_out.close()"
   ]
  },
  {
   "cell_type": "markdown",
   "id": "0512a46c-c4cb-4443-9974-6ed09244b79e",
   "metadata": {},
   "source": [
    "# SMOTE"
   ]
  },
  {
   "cell_type": "code",
   "execution_count": 17,
   "id": "d84a6add-19b7-4a72-9d38-9611814b84bd",
   "metadata": {},
   "outputs": [],
   "source": [
    "from imblearn.over_sampling import SMOTE\n",
    "# Labeling Features\n",
    "X = lbl_data.drop('IS_NOSHOW', axis = 1) \n",
    "\n",
    "# Labeling Target\n",
    "y = lbl_data['IS_NOSHOW']\n",
    "\n",
    "# Splitting The Data\n",
    "X_train, X_test, y_train, y_test = train_test_split(\n",
    "    X, y, test_size=0.2, random_state=42, stratify=y)\n",
    "\n",
    "# Initialize SMOTE object for oversampling\n",
    "sm = SMOTE(random_state=56)\n",
    "\n",
    "# Fit SMOTE to your training data and resample it.\n",
    "X_resampled, y_resampled = sm.fit_resample(X_train, y_train)\n",
    "\n"
   ]
  },
  {
   "cell_type": "code",
   "execution_count": 18,
   "id": "55636fa3-ee67-428a-9dad-914f6ba4bca5",
   "metadata": {},
   "outputs": [
    {
     "data": {
      "text/plain": [
       "IS_NOSHOW\n",
       "0    16022\n",
       "2    16022\n",
       "Name: count, dtype: int64"
      ]
     },
     "execution_count": 18,
     "metadata": {},
     "output_type": "execute_result"
    }
   ],
   "source": [
    "y_resampled.value_counts()"
   ]
  },
  {
   "cell_type": "code",
   "execution_count": 19,
   "id": "230098ee-6061-4cc6-ae95-bc75402a79b1",
   "metadata": {},
   "outputs": [],
   "source": [
    "X_train = X_resampled\n",
    "y_train = y_resampled"
   ]
  },
  {
   "cell_type": "markdown",
   "id": "7a825188-27c7-4474-9e2e-784ebbc003ac",
   "metadata": {},
   "source": [
    "# Training and Testing"
   ]
  },
  {
   "cell_type": "markdown",
   "id": "0ffcdb80-2abf-4951-9b12-395f4e1e2044",
   "metadata": {},
   "source": [
    "# Random Forest"
   ]
  },
  {
   "cell_type": "code",
   "execution_count": 20,
   "id": "ff68d8df-77a6-4966-b12a-a1189b1a105f",
   "metadata": {},
   "outputs": [
    {
     "name": "stdout",
     "output_type": "stream",
     "text": [
      "[[3866  139]\n",
      " [  92  115]]\n",
      "              precision    recall  f1-score   support\n",
      "\n",
      "           0       0.98      0.97      0.97      4005\n",
      "           2       0.45      0.56      0.50       207\n",
      "\n",
      "    accuracy                           0.95      4212\n",
      "   macro avg       0.71      0.76      0.73      4212\n",
      "weighted avg       0.95      0.95      0.95      4212\n",
      "\n",
      "Accuracy Score: 0.9451566951566952\n",
      "Recall Score: 0.9652933832709114\n",
      "Precision Score: 0.976755937342092\n",
      "ROC AUC Score:  0.7604244694132335\n",
      "Threshold: [3 2 0]\n"
     ]
    }
   ],
   "source": [
    "rf = RandomForestClassifier(n_estimators=100, random_state=0)\n",
    "rf.fit(X_train, y_train)\n",
    "ypred = rf.predict(X_test)\n",
    "print(confusion_matrix(y_test, ypred))\n",
    "print(classification_report(y_test, ypred))\n",
    "\n",
    "print(\"Accuracy Score:\", accuracy_score(y_test, ypred))\n",
    "print(\"Recall Score:\", recall_score(y_test, ypred, pos_label=0))\n",
    "print(\"Precision Score:\", precision_score(y_test, ypred, pos_label=0))\n",
    "print(\"ROC AUC Score: \", roc_auc_score(y_test, ypred))\n",
    "\n",
    "rf_fp, rf_tp, rf_threshold = roc_curve(y_test, ypred, pos_label=0)\n",
    "print(\"Threshold:\", rf_threshold)"
   ]
  },
  {
   "cell_type": "markdown",
   "id": "7f50c033-3c77-4473-815e-253b594e0ea9",
   "metadata": {},
   "source": [
    "# Gradient Boost Classifier"
   ]
  },
  {
   "cell_type": "code",
   "execution_count": 21,
   "id": "85ec51b4-de24-487c-bbdb-ea7a7fe6e269",
   "metadata": {},
   "outputs": [
    {
     "name": "stdout",
     "output_type": "stream",
     "text": [
      "[[3645  360]\n",
      " [  23  184]]\n",
      "              precision    recall  f1-score   support\n",
      "\n",
      "           0       0.99      0.91      0.95      4005\n",
      "           2       0.34      0.89      0.49       207\n",
      "\n",
      "    accuracy                           0.91      4212\n",
      "   macro avg       0.67      0.90      0.72      4212\n",
      "weighted avg       0.96      0.91      0.93      4212\n",
      "\n",
      "Accuracy Score: 0.9090693257359924\n",
      "Recall Score: 0.9101123595505618\n",
      "Precision Score: 0.9937295528898582\n",
      "ROC AUC Score:  0.8995006242197253\n",
      "Threshold: [3 2 0]\n"
     ]
    }
   ],
   "source": [
    "gbc = GradientBoostingClassifier(n_estimators=100, random_state=0)\n",
    "gbc.fit(X_train, y_train)\n",
    "ypred = gbc.predict(X_test)\n",
    "print(confusion_matrix(y_test, ypred))\n",
    "print(classification_report(y_test, ypred))\n",
    "print(\"Accuracy Score:\", accuracy_score(y_test, ypred))\n",
    "print(\"Recall Score:\", recall_score(y_test, ypred, pos_label=0))\n",
    "print(\"Precision Score:\", precision_score(y_test, ypred, pos_label=0))\n",
    "print(\"ROC AUC Score: \", roc_auc_score(y_test, ypred))\n",
    "\n",
    "gbc_fp, gbc_tp, gbc_threshold = roc_curve(y_test, ypred, pos_label=0)\n",
    "print(\"Threshold:\", gbc_threshold)"
   ]
  },
  {
   "cell_type": "markdown",
   "id": "bd466262-9f71-4c69-a526-cbd70406bf04",
   "metadata": {},
   "source": [
    "# ADA Boost Classifier"
   ]
  },
  {
   "cell_type": "code",
   "execution_count": 22,
   "id": "a0aced3e-69b5-4a29-8fb6-678947dc1500",
   "metadata": {},
   "outputs": [
    {
     "name": "stdout",
     "output_type": "stream",
     "text": [
      "[[3642  363]\n",
      " [  20  187]]\n",
      "              precision    recall  f1-score   support\n",
      "\n",
      "           0       0.99      0.91      0.95      4005\n",
      "           2       0.34      0.90      0.49       207\n",
      "\n",
      "    accuracy                           0.91      4212\n",
      "   macro avg       0.67      0.91      0.72      4212\n",
      "weighted avg       0.96      0.91      0.93      4212\n",
      "\n",
      "Accuracy Score: 0.9090693257359924\n",
      "Recall Score: 0.9093632958801499\n",
      "Precision Score: 0.9945385035499726\n",
      "ROC AUC Score:  0.9063724691961136\n",
      "Threshold: [3 2 0]\n"
     ]
    }
   ],
   "source": [
    "abc = AdaBoostClassifier(n_estimators=100, random_state=0)\n",
    "abc.fit(X_train, y_train)\n",
    "ypred = abc.predict(X_test)\n",
    "print(confusion_matrix(y_test, ypred))\n",
    "print(classification_report(y_test, ypred))\n",
    "print(\"Accuracy Score:\", accuracy_score(y_test, ypred))\n",
    "print(\"Recall Score:\", recall_score(y_test, ypred, pos_label=0))\n",
    "print(\"Precision Score:\", precision_score(y_test, ypred, pos_label=0))\n",
    "print(\"ROC AUC Score: \", roc_auc_score(y_test, ypred))\n",
    "\n",
    "abc_fp, abc_tp, abc_threshold = roc_curve(y_test, ypred, pos_label=0)\n",
    "print(\"Threshold:\", abc_threshold)"
   ]
  },
  {
   "cell_type": "code",
   "execution_count": 23,
   "id": "822a9506-3f13-45c2-a22b-e9f95503b6ec",
   "metadata": {},
   "outputs": [
    {
     "data": {
      "text/html": [
       "<div>\n",
       "<style scoped>\n",
       "    .dataframe tbody tr th:only-of-type {\n",
       "        vertical-align: middle;\n",
       "    }\n",
       "\n",
       "    .dataframe tbody tr th {\n",
       "        vertical-align: top;\n",
       "    }\n",
       "\n",
       "    .dataframe thead th {\n",
       "        text-align: right;\n",
       "    }\n",
       "</style>\n",
       "<table border=\"1\" class=\"dataframe\">\n",
       "  <thead>\n",
       "    <tr style=\"text-align: right;\">\n",
       "      <th></th>\n",
       "      <th>Feature</th>\n",
       "      <th>Importance</th>\n",
       "    </tr>\n",
       "  </thead>\n",
       "  <tbody>\n",
       "    <tr>\n",
       "      <th>7</th>\n",
       "      <td>TOTAL_NUMBER_OF_NOSHOW</td>\n",
       "      <td>0.612198</td>\n",
       "    </tr>\n",
       "    <tr>\n",
       "      <th>4</th>\n",
       "      <td>TOTAL_NUMBER_OF_CANCELLATIONS</td>\n",
       "      <td>0.086866</td>\n",
       "    </tr>\n",
       "    <tr>\n",
       "      <th>6</th>\n",
       "      <td>TOTAL_NUMBER_OF_SUCCESS_APPOINTMENT</td>\n",
       "      <td>0.076714</td>\n",
       "    </tr>\n",
       "    <tr>\n",
       "      <th>1</th>\n",
       "      <td>LEAD_TIME</td>\n",
       "      <td>0.075843</td>\n",
       "    </tr>\n",
       "    <tr>\n",
       "      <th>5</th>\n",
       "      <td>TOTAL_NUMBER_OF_RESCHEDULED</td>\n",
       "      <td>0.037570</td>\n",
       "    </tr>\n",
       "    <tr>\n",
       "      <th>3</th>\n",
       "      <td>APPT_NUM</td>\n",
       "      <td>0.036792</td>\n",
       "    </tr>\n",
       "    <tr>\n",
       "      <th>8</th>\n",
       "      <td>AGE</td>\n",
       "      <td>0.035053</td>\n",
       "    </tr>\n",
       "    <tr>\n",
       "      <th>0</th>\n",
       "      <td>CLINIC</td>\n",
       "      <td>0.020133</td>\n",
       "    </tr>\n",
       "    <tr>\n",
       "      <th>2</th>\n",
       "      <td>IS_REPEAT</td>\n",
       "      <td>0.018831</td>\n",
       "    </tr>\n",
       "  </tbody>\n",
       "</table>\n",
       "</div>"
      ],
      "text/plain": [
       "                               Feature  Importance\n",
       "7               TOTAL_NUMBER_OF_NOSHOW    0.612198\n",
       "4        TOTAL_NUMBER_OF_CANCELLATIONS    0.086866\n",
       "6  TOTAL_NUMBER_OF_SUCCESS_APPOINTMENT    0.076714\n",
       "1                            LEAD_TIME    0.075843\n",
       "5          TOTAL_NUMBER_OF_RESCHEDULED    0.037570\n",
       "3                             APPT_NUM    0.036792\n",
       "8                                  AGE    0.035053\n",
       "0                               CLINIC    0.020133\n",
       "2                            IS_REPEAT    0.018831"
      ]
     },
     "execution_count": 23,
     "metadata": {},
     "output_type": "execute_result"
    }
   ],
   "source": [
    "feature_importance_df = pd.DataFrame(X_train.columns, columns=[\"Feature\"])\n",
    "feature_importance_df[\"Importance\"] = rf.feature_importances_\n",
    "feature_importance_df.sort_values('Importance', ascending=False, inplace=True)\n",
    "feature_importance_df = feature_importance_df.head(20)\n",
    "feature_importance_df"
   ]
  },
  {
   "cell_type": "code",
   "execution_count": 24,
   "id": "8a5ac654-b9b3-4d51-9165-24acf3a5ab4e",
   "metadata": {},
   "outputs": [
    {
     "data": {
      "text/plain": [
       "Text(0.5, 1.0, 'Plot Feature Importances')"
      ]
     },
     "execution_count": 24,
     "metadata": {},
     "output_type": "execute_result"
    },
    {
     "data": {
      "image/png": "[encoded data removed]",
      "text/plain": [
       "<Figure size 1500x500 with 1 Axes>"
      ]
     },
     "metadata": {},
     "output_type": "display_data"
    }
   ],
   "source": [
    "plt.figure(figsize=(15,5))\n",
    "ax = feature_importance_df['Feature']\n",
    "plt.bar(range(feature_importance_df.shape[0]), feature_importance_df['Importance']*100)\n",
    "plt.xticks(range(feature_importance_df.shape[0]), feature_importance_df['Feature'], rotation = 20)\n",
    "plt.xlabel(\"Features\")\n",
    "plt.ylabel(\"Importance\")\n",
    "plt.title(\"Plot Feature Importances\")"
   ]
  },
  {
   "cell_type": "code",
   "execution_count": 25,
   "id": "7b0560d6-cf37-4a2a-bee3-728baa86bb3d",
   "metadata": {},
   "outputs": [],
   "source": [
    "pickle_out = open(\"LRmodel_V1.pkl\", \"wb\")\n",
    "pickle.dump(gbc, pickle_out)\n",
    "pickle_out.close()"
   ]
  },
  {
   "cell_type": "code",
   "execution_count": 26,
   "id": "a3cf86c1-84ff-46a2-a32a-ec8066a81b1f",
   "metadata": {},
   "outputs": [],
   "source": [
    "pkl_file = open('encoder_V3.pkl', 'rb')\n",
    "encoder_dict_V2 = pickle.load(pkl_file) \n",
    "pkl_file.close()"
   ]
  },
  {
   "cell_type": "code",
   "execution_count": 27,
   "id": "7efc27dc-1ffb-4c45-9d79-782ac026f3e2",
   "metadata": {},
   "outputs": [
    {
     "name": "stdout",
     "output_type": "stream",
     "text": [
      "{'CLINIC': ['ARCADIA CARE CENTER', 'BAKERSFIELD CARE CLINIC', 'ENCINO CARE CENTER', 'SANTA MONICA CLINIC', 'SOUTH BAY CARE CENTER', 'Unknown', 'VALENCIA CARE CENTER'], 'IS_REPEAT': ['N', 'Unknown', 'Y'], 'IS_NOSHOW': ['N', 'Unknown', 'Y']}\n"
     ]
    }
   ],
   "source": [
    "print(encoder_dict)"
   ]
  },
  {
   "cell_type": "code",
   "execution_count": null,
   "id": "4772868e-1d83-4299-aa8b-84ced8ed1eb8",
   "metadata": {},
   "outputs": [
    {
     "name": "stdout",
     "output_type": "stream",
     "text": [
      "\u001b[0m\n",
      "\u001b[34m\u001b[1m  You can now view your Streamlit app in your browser.\u001b[0m\n",
      "\u001b[0m\n",
      "\u001b[34m  Local URL: \u001b[0m\u001b[1mhttp://localhost:8502\u001b[0m\n",
      "\u001b[34m  Network URL: \u001b[0m\u001b[1mhttp://192.168.4.23:8502\u001b[0m\n",
      "\u001b[0m\n"
     ]
    }
   ],
   "source": [
    "!streamlit run app_V1.py"
   ]
  }
 ],
 "metadata": {
  "kernelspec": {
   "display_name": "Python 3 (ipykernel)",
   "language": "python",
   "name": "python3"
  },
  "language_info": {
   "codemirror_mode": {
    "name": "ipython",
    "version": 3
   },
   "file_extension": ".py",
   "mimetype": "text/x-python",
   "name": "python",
   "nbconvert_exporter": "python",
   "pygments_lexer": "ipython3",
   "version": "3.11.5"
  }
 },
 "nbformat": 4,
 "nbformat_minor": 5
}
